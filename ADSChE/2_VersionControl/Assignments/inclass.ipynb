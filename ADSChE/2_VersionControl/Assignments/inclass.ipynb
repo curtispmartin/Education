{
 "cells": [
  {
   "cell_type": "markdown",
   "id": "cdc3ec30",
   "metadata": {},
   "source": [
    "# In-Class Assignment\n",
    "\n",
    "This assignment is due... \n",
    "\n",
    "<img src=\"Figs/figure1.jpg\" alt=\"Git & GitHub\" title=\"Figure 1\" style=\"margin:auto\" width=\"300\" />\n",
    "\n",
    "## [Version Control](https://github.com/curtispmartin/Education/tree/master/ADSChE/2_VersionControl)\n",
    "\n",
    "The point of this assignment isn't so much about using Python (besides having Jupyter installed, no Python is really needed...), but is more to provide some code for you to peruse **while you work through the typical Git/Hub workflow.** Remember, once you have Git installed & your GitHub account set up, the standard workflow consists of the following:\n",
    "- Ensure your local repo is up to date by using `git pull` (only relevant if working collaboratively)\n",
    "- Write or update code\n",
    "- Stage the code using `git commit -m <update message> -a` (if the code is new, you'll need to use `git add *` first)\n",
    "- Push the code to your repo using `git push`\n",
    "\n",
    "Once you've completed your first commit (which will get this file up to your repo for the first time):\n",
    "- Create a new branch using `git branch -b <branch name>`\n",
    "- Push the new branch to your repo using `git push origin -u <branch name>`\n",
    "- Update the code by changing the `myname` object to your own name\n",
    "- Use the standard `pull/add/commit/push` workflow to update the code\n",
    "\n",
    "Lastly, once you've confirmed all your changes:\n",
    "- Checkout the master branch using `git checkout master`\n",
    "- Merge the new branch w/ the master using `git merge <branch name>`\n",
    "- Push merge to GitHub using `git push`\n",
    "- Delete other branch using `git branch -d <branch name>` \n",
    "- Push deletion to GitHub using `git push origin -d <branch name>`\n",
    "\n",
    "This all might sound very tedious, but the point is that everything you do locally stays local until you explicitly push it to the repo on GitHub. \n",
    "\n",
    "Also remember to constantly be using `git status` to check where things are -- This becomes much more daunting if you try keep track of everything by memory."
   ]
  },
  {
   "cell_type": "code",
   "execution_count": null,
   "id": "c9489850",
   "metadata": {},
   "outputs": [],
   "source": [
    "### import packages\n",
    "import os"
   ]
  },
  {
   "cell_type": "code",
   "execution_count": null,
   "id": "17157c89",
   "metadata": {},
   "outputs": [],
   "source": [
    "### print \"Hello World!\" (an important rite of passage!)\n",
    "print('Hello World!')"
   ]
  },
  {
   "cell_type": "code",
   "execution_count": null,
   "id": "0f87714a",
   "metadata": {},
   "outputs": [],
   "source": [
    "### change your name here\n",
    "myname = 'Curtis P. Martin'\n",
    "print(myname)"
   ]
  },
  {
   "cell_type": "code",
   "execution_count": null,
   "id": "fd05c6c7",
   "metadata": {},
   "outputs": [],
   "source": [
    "### get current working directory, then print\n",
    "cwd = os.getcwd()\n",
    "print(cwd)"
   ]
  },
  {
   "cell_type": "code",
   "execution_count": null,
   "id": "b458d4cd",
   "metadata": {},
   "outputs": [],
   "source": [
    "### do some basic arithmetic in Python\n",
    "a = 5 + 5\n",
    "b = 5 - 5\n",
    "c = 5 * 5\n",
    "d = 5 / 5\n",
    "e = 5 ** 5\n",
    "print(a, b, c, d, e)"
   ]
  },
  {
   "cell_type": "code",
   "execution_count": null,
   "id": "4948274e",
   "metadata": {},
   "outputs": [],
   "source": [
    "### create a list in Python using objects from before\n",
    "l = [a, b, c, d, e]\n",
    "print(l)\n",
    "\n",
    "### loop through list & print the sum of each item w/ 5\n",
    "for v in l:\n",
    "    print(v + 5)"
   ]
  },
  {
   "cell_type": "code",
   "execution_count": null,
   "id": "3a28b46c",
   "metadata": {},
   "outputs": [],
   "source": [
    "### tell me what type of objects a & l are\n",
    "type(a), type(l)"
   ]
  },
  {
   "cell_type": "code",
   "execution_count": null,
   "id": "f95fcad8",
   "metadata": {},
   "outputs": [],
   "source": [
    "### add 5 to the end of list \"l\"\n",
    "l.append(5)\n",
    "print(l)"
   ]
  },
  {
   "cell_type": "code",
   "execution_count": null,
   "id": "4e99106c",
   "metadata": {},
   "outputs": [],
   "source": [
    "### loop through name & print characters\n",
    "for c in myname:\n",
    "    print(c)"
   ]
  }
 ],
 "metadata": {
  "kernelspec": {
   "display_name": "Python 3 (ipykernel)",
   "language": "python",
   "name": "python3"
  },
  "language_info": {
   "codemirror_mode": {
    "name": "ipython",
    "version": 3
   },
   "file_extension": ".py",
   "mimetype": "text/x-python",
   "name": "python",
   "nbconvert_exporter": "python",
   "pygments_lexer": "ipython3",
   "version": "3.9.7"
  }
 },
 "nbformat": 4,
 "nbformat_minor": 5
}
