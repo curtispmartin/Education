{
 "cells": [
  {
   "cell_type": "code",
   "execution_count": null,
   "id": "c9489850",
   "metadata": {},
   "outputs": [],
   "source": [
    "import os\n",
    "# import sys"
   ]
  },
  {
   "cell_type": "code",
   "execution_count": null,
   "id": "17157c89",
   "metadata": {},
   "outputs": [],
   "source": [
    "print('Hello World!')"
   ]
  },
  {
   "cell_type": "code",
   "execution_count": null,
   "id": "0f87714a",
   "metadata": {},
   "outputs": [],
   "source": [
    "myname = 'Curtis P. Martin'\n",
    "print(myname)"
   ]
  },
  {
   "cell_type": "code",
   "execution_count": null,
   "id": "fd05c6c7",
   "metadata": {},
   "outputs": [],
   "source": [
    "cwd = os.getcwd()\n",
    "print(cwd)"
   ]
  },
  {
   "cell_type": "code",
   "execution_count": null,
   "id": "b458d4cd",
   "metadata": {},
   "outputs": [],
   "source": [
    "a = 5 + 5\n",
    "b = 5 - 5\n",
    "c = 5 * 5\n",
    "d = 5 / 5\n",
    "e = 5 ** 5\n",
    "print(a, b, c, d, e)"
   ]
  },
  {
   "cell_type": "code",
   "execution_count": null,
   "id": "4948274e",
   "metadata": {},
   "outputs": [],
   "source": [
    "l = [a, b, c, d, e]\n",
    "print(l)\n",
    "for v in l:\n",
    "    print(v + 5)"
   ]
  },
  {
   "cell_type": "code",
   "execution_count": null,
   "id": "3a28b46c",
   "metadata": {},
   "outputs": [],
   "source": [
    "type(a), type(l)"
   ]
  },
  {
   "cell_type": "code",
   "execution_count": null,
   "id": "f95fcad8",
   "metadata": {},
   "outputs": [],
   "source": [
    "l.append(5)\n",
    "print(l)"
   ]
  },
  {
   "cell_type": "code",
   "execution_count": null,
   "id": "4e99106c",
   "metadata": {},
   "outputs": [],
   "source": [
    "for c in myname:\n",
    "    print(c)"
   ]
  }
 ],
 "metadata": {
  "kernelspec": {
   "display_name": "Python 3 (ipykernel)",
   "language": "python",
   "name": "python3"
  },
  "language_info": {
   "codemirror_mode": {
    "name": "ipython",
    "version": 3
   },
   "file_extension": ".py",
   "mimetype": "text/x-python",
   "name": "python",
   "nbconvert_exporter": "python",
   "pygments_lexer": "ipython3",
   "version": "3.9.7"
  }
 },
 "nbformat": 4,
 "nbformat_minor": 5
}
