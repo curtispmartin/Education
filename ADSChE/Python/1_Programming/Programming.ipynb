{
 "cells": [
  {
   "cell_type": "markdown",
   "id": "fcfe3e47",
   "metadata": {},
   "source": [
    "# Lesson: Python for Data Science\n",
    "\n",
    "## Introduction to Programming\n",
    "\n",
    "**Programming is critical to any data science course, as it is a fundamental enabling technology; without programming or coding, we wouldn't be able to actually apply any of the things we're going to learn.**\n",
    "\n",
    "[Python](https://www.python.org/) will be used (via [Miniconda](https://docs.conda.io/en/latest/miniconda.html)) in particular because it is *relatively* simple and is widely applicable. It also has a huge (& growing!) user-base, which means there are many pre-made tools available which are perfect for data science-y things. \n",
    "\n",
    "Given our situation, we will assume no prior knowledge of programming or Python. If you ARE familiar w/ programming & Python, please bear w/ us; actually, let me know, as I may enlist your help in getting others up to speed. \n",
    "\n",
    "## What is Programming? \n",
    "\n",
    "Well, programming (or coding) is our way of communicating w/ a digital device, like a computer or a phone. Usually this means we're bossing it around b/c, while computers have plenty of processing power, they have no understanding of how to use that power (i.e. they have no intuition), so we must give them instructions. \n",
    "\n",
    "This is generally quite difficult because computers & humans speak different languages: [Machine code](https://en.wikipedia.org/wiki/Machine_code) versus (e.g.) English. You can think of machine code a little bit like [what Neo sees after he realizes he's the One](https://youtu.be/Vy7RaQUmOzE?t=198):\n",
    "\n",
    "<img src=\"Figures/matrixcode.png\" alt=\"Git & GitHub\" width=\"750\" />"
   ]
  },
  {
   "cell_type": "markdown",
   "id": "0928b822",
   "metadata": {},
   "source": [
    "Like I said, kinda... But machine code is strictly numeric in nature. It isn't meant for humans, it's meant to give precise & quick instructions to the [central processing unit (CPU)](https://en.wikipedia.org/wiki/Central_processing_unit). So what we need is some sort of way to translate machine code into something which is human-readable. \n",
    "\n",
    "You might be thinking: Why not English? Or French? Or Japanese? The primary reason is that what we normally think of as languages -- that is the constructs we use to communicate w/ one another -- are very inefficient when it comes to giving instructions. If I asked you to explain to me how to create a new TikTok (or w/e you kids are doin these days) in written form, it would probably take a lot longer than it would if you just showed me, right? Not only that, but I'm liable to get vastly different instructions from each of you. That isn't what we want... It's incredibly inefficient.\\*\n",
    "\n",
    "**This brings us to programming languages, which are a sort of in-between: They're developed with words & symbols we recognize and are structured in a way we recognize, but also in a way which is more efficient & can be easily translated into machine code for execution.** These translations are done by computer programs called [compilers](https://en.wikipedia.org/wiki/Compiler). So what does this all mean? Well, like traditional languages, programming languages have rules which define *words* and *grammar* -- **What we call syntax.** This syntax (which the compiler translates) includes definitions for tasks like addition, multiplication, file writing, picture generation, data extraction, matrix manipulation, etc., & it's what we need to learn in order to do data science. \n",
    "\n",
    "\\*Caveat: Don't get me wrong, it isn't as if we can only successfully write code in a single way. But the logic of programming languages typically constrains us in such a way so that the [cardinality](https://en.wikipedia.org/wiki/Cardinality) of the set of options isn't infinite. \n",
    "\n",
    "## The Importance of Logic\n",
    "\n",
    "[Logic (ehhe!)](https://en.wikipedia.org/wiki/Logic_(rapper)) is ultimately the foundation of programming; while the [syntax](https://en.wikipedia.org/wiki/Syntax_(programming_languages)) doesn't generally translate b/w languages, the logic behind them does. So let's start our Python journey by learning some basic logical terminology which is shared across all programming languages (& because I have no formal training in logic whatsoever, I will apologize up front to the logicians out there who stumble upon this).  \n",
    "\n",
    "Oh, one last thing before we move on. Since we don't know how to program yet, we need some sort of (in)formalism with which we can represent logical actions to take: We can do so using [**pseudocode**](https://en.wikipedia.org/wiki/Pseudocode), which will represent in words what we will eventually be able to put into actual code. Why not just use pseudocode then, you ask? *Weeeeelllllll*, b/c it's kinda vague & kinda limited. You'll see. "
   ]
  },
  {
   "cell_type": "markdown",
   "id": "b99a50ad",
   "metadata": {},
   "source": [
    "The first thing we should discuss is an action. Any action we want to perform, we can write as a `statement`. Assigning you homework after this lecture (e.g.,) is such a statement: In this case, I want you to do homework so you'll learn the things better, & I have to sit here & hope that you're as studious as a computer would be. In general, we can indicate a statement using:\n",
    "\n",
    "`do`\n",
    "\n",
    "But this discussion is a little meta at this point, b/c you don't generally tell the computer to just `do` something, you tell it *what* to do. For example, you can tell it to:\n",
    "- Add 5 & 5: `5+5`\n",
    "- Print of a string: `print('Hello World!')`\n",
    "- Calculate the mean of a set of numbers: `np.mean([1,2,3,4,5])`\n",
    "- Read a file: `open(file.txt, 'r')`\n",
    "- Make a scatter plot: `sns.scatterplot(x=x, y=y, data=data)`\n",
    "\n",
    "These are all examples of what we call `operations`, or single calculations performed by the computer, & they form the basis of our language. But whenever you tell the computer to `do` something, the inevitable question it asks you is: *to whom?* The answer, of course, is to some sort of `variable`, or an `object` which represents some known quantity. For example, if I set `x=5`, then `x+x=5+5`. The benefit of this is that I can carry `x` with me through infinite operations in my code, unless of course I reassign `x`. Thus, instead of having to change `5` everywhere in my code, I can change the assignment `x=5` once & carry on. So, for example, instead of the following:\n",
    "```\n",
    "5+5\n",
    "5**2\n",
    "plot(x=5, y=1)\n",
    "```\n",
    "I can write:\n",
    "```\n",
    "x=5\n",
    "x+5\n",
    "x**2\n",
    "plot(x=x, y=1)\n",
    "```\n",
    "It's obviously a silly example, but you (hopefully) get the point. Keep in mind that `objects` don't have to be numeric; they can be strings or equations or functions... More on that another day!\n",
    "\n",
    "Now, variables can point to different types of `objects`, which is a subject for another class, but it behooves me here to talk about one specific type: `iterables`. Recall that in math (specifically in linear algebra), variables have dimensionality to them. \n",
    "- A `scalar` is just a number; it has zero dimension (it can be thought of as akin to a point on a graph).\n",
    "- A `vector` (or an `array` or a `list` or a `set` etc.) is a set of numbers which all belong together. This extends the concept into a single dimension (it can be thought of as akin to a line on a graph). \n",
    "\n",
    "There are higher-dimensional variables as well, but for now what's important is that a `vector` is made up of a set of `scalars`, for which we can perform multiple different types of `operations`. Say for example, I asked you to take the mean of the following:\n",
    "`x=[1,2,3,4,5]`\n",
    "\n",
    "What would you do? Probably you'd calculate `(1+2+3+4+5)/5=7.5`, right? But what if I asked you to multiply `x` by 5? Then what? If I had to guess, you'd probably calculate `[1*5,2*5,3*5,4*5,5*5]=[5,10,15,20,25]`. `x` in this case is what we call an `iterable`: It's a variable which we can iterate through to perform an operation on various elements which comprise it..."
   ]
  },
  {
   "cell_type": "markdown",
   "id": "d799c75d",
   "metadata": {},
   "source": [
    "Obvious next question: Do *what?* \n",
    "- operations...\n",
    "- loops...\n",
    "\n",
    "Sure, but *to* what?\n",
    "- variables...\n",
    "- objects...\n",
    "- iterables...\n",
    "\n",
    "Under what *cirumstances?*\n",
    "- conditionals...\n",
    "\n",
    "What if I want to do multiple things at a time? \n",
    "- function...\n",
    "- argument...\n",
    "\n",
    "Make sense? Let's write some pseudocode..."
   ]
  }
 ],
 "metadata": {
  "kernelspec": {
   "display_name": "Python 3 (ipykernel)",
   "language": "python",
   "name": "python3"
  },
  "language_info": {
   "codemirror_mode": {
    "name": "ipython",
    "version": 3
   },
   "file_extension": ".py",
   "mimetype": "text/x-python",
   "name": "python",
   "nbconvert_exporter": "python",
   "pygments_lexer": "ipython3",
   "version": "3.9.7"
  }
 },
 "nbformat": 4,
 "nbformat_minor": 5
}
