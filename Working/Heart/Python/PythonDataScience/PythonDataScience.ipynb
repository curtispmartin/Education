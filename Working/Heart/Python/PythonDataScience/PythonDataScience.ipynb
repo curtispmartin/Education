{
 "cells": [
  {
   "cell_type": "markdown",
   "id": "51acb1d3",
   "metadata": {},
   "source": [
    "# Lesson 4: Data Science in Python\n",
    "Here, we go into....\n",
    "\n",
    "We'll start off by importing our packages of interest, to include the following:\n",
    "### - [numpy](https://numpy.org/)\n",
    "Package for...\n",
    "\n",
    "### - [scipy](https://scipy.org/)\n",
    "\n",
    "\n",
    "### - [pandas](https://pandas.pydata.org/)\n",
    "\n",
    "\n",
    "### - [scikit-learn](https://scikit-learn.org/stable/index.html)\n",
    "\n",
    "\n",
    "### - [matplotlib](https://matplotlib.org/stable/index.html)\n",
    "\n",
    "\n",
    "### - [seaborn](https://seaborn.pydata.org/)"
   ]
  },
  {
   "cell_type": "code",
   "execution_count": 5,
   "id": "b8da6aa9",
   "metadata": {},
   "outputs": [],
   "source": [
    "### built-ins\n",
    "import os\n",
    "import sys\n",
    "\n",
    "### data science\n",
    "import numpy as np\n",
    "import pandas as pd\n",
    "\n",
    "### modeling\n",
    "import scipy.stats as stats\n",
    "import sklearn as skl\n",
    "\n",
    "### visualization\n",
    "import matplotlib.pyplot as plt\n",
    "import seaborn as sns"
   ]
  },
  {
   "cell_type": "code",
   "execution_count": null,
   "id": "039da2ac",
   "metadata": {},
   "outputs": [],
   "source": []
  }
 ],
 "metadata": {
  "kernelspec": {
   "display_name": "Python 3 (ipykernel)",
   "language": "python",
   "name": "python3"
  },
  "language_info": {
   "codemirror_mode": {
    "name": "ipython",
    "version": 3
   },
   "file_extension": ".py",
   "mimetype": "text/x-python",
   "name": "python",
   "nbconvert_exporter": "python",
   "pygments_lexer": "ipython3",
   "version": "3.9.7"
  }
 },
 "nbformat": 4,
 "nbformat_minor": 5
}
