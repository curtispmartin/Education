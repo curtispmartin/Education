{
 "cells": [
  {
   "cell_type": "markdown",
   "id": "51acb1d3",
   "metadata": {},
   "source": [
    "# Lesson 4: Data Science in Python\n",
    "Here, we go into...."
   ]
  },
  {
   "cell_type": "code",
   "execution_count": null,
   "id": "b8da6aa9",
   "metadata": {},
   "outputs": [],
   "source": []
  }
 ],
 "metadata": {
  "kernelspec": {
   "display_name": "Python 3 (ipykernel)",
   "language": "python",
   "name": "python3"
  },
  "language_info": {
   "codemirror_mode": {
    "name": "ipython",
    "version": 3
   },
   "file_extension": ".py",
   "mimetype": "text/x-python",
   "name": "python",
   "nbconvert_exporter": "python",
   "pygments_lexer": "ipython3",
   "version": "3.9.7"
  }
 },
 "nbformat": 4,
 "nbformat_minor": 5
}
